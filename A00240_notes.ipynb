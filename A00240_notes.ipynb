{
 "cells": [
  {
   "cell_type": "markdown",
   "metadata": {},
   "source": [
    "# A00240 - SAS Certification Prep Guide Statistical Business Analysis Using SAS 9"
   ]
  },
  {
   "cell_type": "markdown",
   "metadata": {},
   "source": [
    "## Statistics 1: Introduction to ANOVA, Regression, and Logistic Regression\n",
    "## 1. Introduction"
   ]
  },
  {
   "cell_type": "markdown",
   "metadata": {},
   "source": [
    "### Statistical Modeling: Types of Variables\n",
    "\n",
    "In statiscal modelling the variables could be continuos, categorial u ordinal."
   ]
  },
  {
   "cell_type": "markdown",
   "metadata": {},
   "source": [
    "#### Predictor Variables: \n",
    "* Input\n",
    "* Exploratory \n",
    "* Independent (design experiment)"
   ]
  },
  {
   "cell_type": "markdown",
   "metadata": {},
   "source": [
    "#### Response variables: \n",
    "* Outcome\n",
    "* Target\n",
    "* dependent (design experiment)"
   ]
  },
  {
   "cell_type": "markdown",
   "metadata": {},
   "source": [
    "### Overview of Models\n",
    "\n",
    "#### General Linear Model (GLM): \n",
    "is the reference to differents type of analysis\n",
    "\n",
    "* Response variable is continuos\n",
    "* the error's distribution is normal\n",
    "\n",
    "#### GLM - ANOVA\n",
    "how the changes in the leves of the predictors affect the change in the response\n",
    "\n",
    "* the response varible is continuos \n",
    "* all predictor variables are categorical\n",
    "\n",
    "#### GLM - Ordinary Least Squares Regression\n",
    "\n",
    "* the response varible is continuos \n",
    "* all predictor variables are continuos\n",
    "\n",
    "#### GLM - Logistic Regression\n",
    "\n",
    "* the response varible is binary \n"
   ]
  },
  {
   "cell_type": "markdown",
   "metadata": {},
   "source": [
    "### Explanatory versus Predictive Modeling\n",
    "\n",
    "#### Explanatory (Inferential statistics)\n",
    "Conclutions about a population based from a sample of that population. The goal is to develop a model that answers the question, \"How is X related to Y?\".\n",
    "* accurately estimating model parameters\n",
    "* assess this using p-values and confidence intervals\n",
    "* have small sample sizes\n",
    "* few variables\n",
    "\n",
    "#### Predictive Modeling\n",
    "Predicts values of the response variable base on the existing values of the predictors variables. The goal is make accurate predictions \n",
    "\n",
    "* large sample sizes\n",
    "* many variables"
   ]
  },
  {
   "cell_type": "markdown",
   "metadata": {},
   "source": [
    "### Quick Review of Statistical Concepts\n",
    "\n",
    "#### P-value\n",
    "The probability of obtaining a test statistic as extreme or more extreme than the one observed in your data given that the null hypothesis is true"
   ]
  }
 ],
 "metadata": {
  "kernelspec": {
   "display_name": "SAS",
   "language": "sas",
   "name": "sas"
  },
  "language_info": {
   "codemirror_mode": "sas",
   "file_extension": ".sas",
   "mimetype": "text/x-sas",
   "name": "sas"
  }
 },
 "nbformat": 4,
 "nbformat_minor": 2
}
