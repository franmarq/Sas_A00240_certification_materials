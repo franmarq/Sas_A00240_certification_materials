{
 "cells": [
  {
   "cell_type": "markdown",
   "metadata": {},
   "source": [
    "# A00240 - SAS Certification Prep Guide Statistical Business Analysis Using SAS 9"
   ]
  },
  {
   "cell_type": "markdown",
   "metadata": {},
   "source": [
    "## Statistics 1: Introduction to ANOVA, Regression, and Logistic Regression\n",
    "## 1. Introduction"
   ]
  },
  {
   "cell_type": "markdown",
   "metadata": {},
   "source": [
    "### Statistical Modeling: Types of Variables\n",
    "\n",
    "In statiscal modelling the variables could be continuos, categorial u ordinal."
   ]
  },
  {
   "cell_type": "markdown",
   "metadata": {},
   "source": [
    "#### Predictor Variables: \n",
    "* Input\n",
    "* Exploratory \n",
    "* Independent (design experiment)"
   ]
  },
  {
   "cell_type": "markdown",
   "metadata": {},
   "source": [
    "#### Response variables: \n",
    "* Outcome\n",
    "* Target\n",
    "* dependent (design experiment)"
   ]
  },
  {
   "cell_type": "markdown",
   "metadata": {},
   "source": [
    "### Overview of Models\n",
    "\n",
    "#### General Linear Model (GLM): \n",
    "is the reference to differents type of analysis\n",
    "\n",
    "* Response variable is continuos\n",
    "* the error's distribution is normal\n",
    "\n",
    "#### GLM - ANOVA\n",
    "how the changes in the leves of the predictors affect the change in the response\n",
    "\n",
    "* the response varible is continuos \n",
    "* all predictor variables are categorical\n",
    "\n",
    "#### GLM - Ordinary Least Squares Regression\n",
    "\n",
    "* the response varible is continuos \n",
    "* all predictor variables are continuos\n",
    "\n",
    "#### GLM - Logistic Regression\n",
    "\n",
    "* the response varible is binary \n"
   ]
  },
  {
   "cell_type": "markdown",
   "metadata": {},
   "source": [
    "### Explanatory versus Predictive Modeling\n",
    "\n",
    "#### Explanatory (Inferential statistics)\n",
    "Conclutions about a population based from a sample of that population. The goal is to develop a model that answers the question, \"How is X related to Y?\".\n",
    "* accurately estimating model parameters\n",
    "* assess this using p-values and confidence intervals\n",
    "* have small sample sizes\n",
    "* few variables\n",
    "\n",
    "#### Predictive Modeling\n",
    "Predicts values of the response variable base on the existing values of the predictors variables. The goal is make accurate predictions \n",
    "\n",
    "* large sample sizes\n",
    "* many variables"
   ]
  },
  {
   "cell_type": "markdown",
   "metadata": {},
   "source": [
    "### Quick Review of Statistical Concepts\n",
    "\n",
    "#### P-value\n",
    "The probability of obtaining a test statistic as extreme or more extreme than the one observed in your data given that the null hypothesis is true"
   ]
  },
  {
   "cell_type": "markdown",
   "metadata": {},
   "source": [
    "### One-Sample t Tests\n",
    "\n",
    "#### Performing a t Test\n",
    "* a one-sample t test compares the mean calculated from a sample to a hypothesized mean. \n",
    "* you must use Student's t distribution, rather than the normal distribution, for calculating p-values and confidence limits.\n",
    "* Student's t distribution is similar to the normal distribution, but it has more probability in the tails and is not as peaked as the normal distribution. Student's t distribution approaches the normal distribution as the sample size increases.\n",
    "\n",
    "\n",
    "\n",
    "#### Two-Sample t Tests (proc ttest)\n",
    "* the observations are independent.\n",
    "* the are normally distributed populations \n",
    "* have equal population variances\n",
    "* In SAS procedure, the class variable has to have only two levels, the populations.\n"
   ]
  },
  {
   "cell_type": "markdown",
   "metadata": {},
   "source": [
    "## 2. ANOVA and Regression"
   ]
  },
  {
   "cell_type": "markdown",
   "metadata": {},
   "source": [
    "### Graphical Analysis of Associations\n",
    "\n",
    "Graphical exploration of associations between predictors and the response can guide model building. Interesting relationships that would be otherwise missed (for example, quadratic relationships or interactions) can present themselves in plots and can be incorporated into models.\n",
    "Variables that are clearly unrelated to the response variable could potentially be removed from the modeling effort. Any information to help guide the decision to include or exclude variables can simplify the process of choosing appropriate predictors for your model.\n",
    "\n",
    "#### Identifying Associations in ANOVA with Box Plots\n",
    "An association exists between two variables when the expected value of one variable changes at different levels of the other variable. if the line that connects the mean in the box is not horizontal it suggest an association.\n",
    "\n",
    "#### Identifying Associations in Linear Regression with Scatter Plots\n"
   ]
  },
  {
   "cell_type": "markdown",
   "metadata": {},
   "source": [
    "### One-Way ANOVA\n",
    "\n",
    "#### The ANOVA Hypothesis\n",
    "The ANOVA test helps you determine whether the differences are large enough to indicate that the population means are different.\n",
    "\n",
    "#### The ANOVA Model\n",
    "assumptions: \n",
    "* independent observations. Independence implies that the errors, εik, in the model are uncorrelated. Good data collection designs can help ensure this assumption.\n",
    "* the error terms are normally distributed for every group or treatment. \n",
    "* the third assumption is that the error terms have equal variances across treatments.\n"
   ]
  },
  {
   "cell_type": "markdown",
   "metadata": {},
   "source": [
    "### ANOVA Post Hoc Tests (multiple-comparison procedures)\n",
    "will determine which pairs of groups are significantly different from each other. \n",
    "\n",
    "#### Multiple Comparison Methods\n",
    "\n",
    "#### Tukey's and Dunnett's Multiple Comparison Methods\n",
    "\n",
    "The Tukey method, or honest significant difference test, \n",
    "* conducts all possible pairwise comparisons and controls the EER (experimentwise error rate) to equal the alpha level that you specify. \n",
    "\n",
    "Dunnett's method \n",
    "* is a specialized multiple comparison test that enables you to compare a single control group, such as a placebo in a drug trial, to all other groups or treatments. \n",
    "\n",
    "#### Diffograms and Control Plots\n",
    "You can use diffograms to visually assess whether pairs of group means are statistically different.\n",
    "A control plot displays the least squares mean and decision limits."
   ]
  },
  {
   "cell_type": "markdown",
   "metadata": {},
   "source": [
    "### Pearson Correlation\n",
    "to use correlation analysis to test for linear associations among the continuous variables.Because correlation is a measure of the linear association between two variables, identifying correlations provides information about how well a continuous predictor will explain the response within a regression analysis."
   ]
  },
  {
   "cell_type": "markdown",
   "metadata": {},
   "source": [
    "### Simple linear regression \n",
    "can be used to more fully describe the relationship between two continuous variables, as opposed to scatter plots and Pearson correlations. Regression model parameter estimates not only define the line of best fit corresponding to the linear association between variables, but they also describe how a change in a predictor corresponds to a change in the response.\n",
    "\n",
    " the goal is to identify the equation that characterizes the linear association between the predictor variable and the response variable, and use the model to then estimate the response for a given value of the predictor.\n",
    "\n",
    "\n",
    "#### Hypothesis Testing and Assumptions for Linear Regression\n",
    "Assumptions: \n",
    "* the mean of the response variable is linearly related to the value of the predictor variable. \n",
    "* the error terms are normally distributed with a mean of 0\n",
    "* the error terms have equal variances\n",
    "* the error terms are independent at each value of the predictor variable. "
   ]
  },
  {
   "cell_type": "code",
   "execution_count": null,
   "metadata": {},
   "outputs": [],
   "source": []
  }
 ],
 "metadata": {
  "kernelspec": {
   "display_name": "SAS",
   "language": "sas",
   "name": "sas"
  },
  "language_info": {
   "codemirror_mode": "sas",
   "file_extension": ".sas",
   "mimetype": "text/x-sas",
   "name": "sas"
  }
 },
 "nbformat": 4,
 "nbformat_minor": 2
}
