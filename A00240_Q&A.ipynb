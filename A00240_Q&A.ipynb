{
 "cells": [
  {
   "cell_type": "markdown",
   "metadata": {},
   "source": [
    "# A00240 - SAS Certification Prep Guide Statistical Business Analysis Using SAS 9"
   ]
  },
  {
   "cell_type": "markdown",
   "metadata": {},
   "source": [
    "**ANOVA Post Hoc Tests** "
   ]
  },
  {
   "cell_type": "markdown",
   "metadata": {},
   "source": [
    "The comparisonwise error rate, or the CER.\n",
    "* is the probability of a Type 1 error on a single pairwise test.\n",
    "\n",
    "\n",
    "The experimentwise error rate, or EER, \n",
    "* is the probability of making at least one Type 1 error when you perform the entire set of comparisons. \n",
    "\n",
    "\n",
    "The Tukey method, or honest significant difference test, \n",
    "* conducts all possible pairwise comparisons and controls the EER (experimentwise error rate) to equal the alpha level that you specify. \n",
    "\n",
    "Dunnett's method \n",
    "* is a specialized multiple comparison test that enables you to compare a single control group, such as a placebo in a drug trial, to all other groups or treatments. \n",
    "\n",
    "Diffograms\n",
    "* You can use diffograms to visually assess whether pairs of group means are statistically different.\n",
    "\n",
    "\n",
    "Control Plots\n",
    "* A control plot displays the least squares mean and decision limits. They compare each treatment group to the control group using Dunnett's method.\n",
    "\n",
    "A statistically conservative multiple comparison what test tends to do?\n",
    "* find fewer significant differences than might otherwise be found without adjustment\n",
    "\n",
    "Compared to a multiple comparisons test that controls the experimentwise error rate, what characteristics will a multiple comparisons test that only controls the comparisonwise error rate tend to have?\n",
    "* a higher Type I error rate, but a lower Type II error rate and more significant differences than might otherwise be found\n",
    "\n",
    "\n",
    "Pearson correlation \n",
    "* coefficient as our correlation statistic. The correlation coefficient ranges from -1 to +1. A Pearson correlation coefficient is a measure of linear association.\n",
    "\n",
    "effect of large sample sizes. \n",
    "* As with many statistics, very large sample sizes can result in small p-values."
   ]
  },
  {
   "cell_type": "code",
   "execution_count": null,
   "metadata": {},
   "outputs": [],
   "source": []
  }
 ],
 "metadata": {
  "kernelspec": {
   "display_name": "SAS",
   "language": "sas",
   "name": "sas"
  },
  "language_info": {
   "codemirror_mode": "sas",
   "file_extension": ".sas",
   "mimetype": "text/x-sas",
   "name": "sas"
  }
 },
 "nbformat": 4,
 "nbformat_minor": 2
}
